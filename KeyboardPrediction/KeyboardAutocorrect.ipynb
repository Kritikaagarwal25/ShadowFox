{
 "cells": [
  {
   "cell_type": "markdown",
   "metadata": {},
   "source": [
    "Import Necessary Packages"
   ]
  },
  {
   "cell_type": "code",
   "execution_count": 1,
   "metadata": {},
   "outputs": [],
   "source": [
    "import string \n",
    "import re \n",
    "import numpy as np\n",
    "import streamlit as st\n",
    "from collections import Counter"
   ]
  },
  {
   "cell_type": "markdown",
   "metadata": {},
   "source": [
    "1. READING ALL WORDS AND FOR THIS WE NEED VOACABULARY DICTIONARY"
   ]
  },
  {
   "cell_type": "code",
   "execution_count": 3,
   "metadata": {},
   "outputs": [],
   "source": [
    "def read_corpus(filename):\n",
    "    with open(filename,'r',encoding='utf-8') as file:\n",
    "        lines = file.readlines()\n",
    "        \n",
    "        words = []\n",
    "        for word in lines:\n",
    "            words += re.findall(r'\\w+',word.lower())\n",
    "    return words\n",
    "\n",
    "# invoke this function\n",
    "corpus = read_corpus(r'C:\\Users\\kritika\\Downloads\\big.txt')"
   ]
  },
  {
   "cell_type": "code",
   "execution_count": 4,
   "metadata": {},
   "outputs": [
    {
     "data": {
      "text/plain": [
       "222663"
      ]
     },
     "execution_count": 4,
     "metadata": {},
     "output_type": "execute_result"
    }
   ],
   "source": [
    "len(corpus)"
   ]
  },
  {
   "cell_type": "markdown",
   "metadata": {},
   "source": [
    "Create Our Vocabulary for uniquw words"
   ]
  },
  {
   "cell_type": "code",
   "execution_count": 5,
   "metadata": {},
   "outputs": [
    {
     "data": {
      "text/plain": [
       "17647"
      ]
     },
     "execution_count": 5,
     "metadata": {},
     "output_type": "execute_result"
    }
   ],
   "source": [
    "vocab=set(corpus)#remove duplicate\n",
    "len(vocab)"
   ]
  },
  {
   "cell_type": "markdown",
   "metadata": {},
   "source": [
    "To see how many times words appear in corpus "
   ]
  },
  {
   "cell_type": "code",
   "execution_count": 6,
   "metadata": {},
   "outputs": [],
   "source": [
    "words_count=Counter(corpus)\n",
    "#words_count['for']"
   ]
  },
  {
   "cell_type": "markdown",
   "metadata": {},
   "source": [
    "Calculate word probablity\n",
    "P(word)=count(word)/N"
   ]
  },
  {
   "cell_type": "code",
   "execution_count": 7,
   "metadata": {},
   "outputs": [],
   "source": [
    "total_words_count=float(sum(words_count.values()))"
   ]
  },
  {
   "cell_type": "code",
   "execution_count": 8,
   "metadata": {},
   "outputs": [],
   "source": [
    "word_probabs= {word:words_count[word] / total_words_count for word in words_count.keys()}"
   ]
  },
  {
   "cell_type": "code",
   "execution_count": 9,
   "metadata": {},
   "outputs": [
    {
     "data": {
      "text/plain": [
       "0.007383355115129142"
      ]
     },
     "execution_count": 9,
     "metadata": {},
     "output_type": "execute_result"
    }
   ],
   "source": [
    "word_probabs['for']"
   ]
  },
  {
   "cell_type": "markdown",
   "metadata": {},
   "source": [
    "AutoCorrect Operations"
   ]
  },
  {
   "cell_type": "markdown",
   "metadata": {},
   "source": [
    "Split operation:\n",
    "first split word into two components\n",
    "[(\",Hello\"),(\"H,ello\"),(\"He,llo\"),(\"Hel,lo\"),(\"Hell,o\"),(\"hello,\")]"
   ]
  },
  {
   "cell_type": "code",
   "execution_count": 10,
   "metadata": {},
   "outputs": [],
   "source": [
    "def split(word):#hello\n",
    "    return [ (word[:i], word[i:]) for i in range(len(word)+1)]"
   ]
  },
  {
   "cell_type": "markdown",
   "metadata": {},
   "source": [
    "2.Delete Operation"
   ]
  },
  {
   "cell_type": "code",
   "execution_count": 11,
   "metadata": {},
   "outputs": [],
   "source": [
    "def delete(word):\n",
    "    return [left + right[1:] for left,right in split(word) if right]"
   ]
  },
  {
   "cell_type": "code",
   "execution_count": 12,
   "metadata": {},
   "outputs": [
    {
     "name": "stdout",
     "output_type": "stream",
     "text": [
      "['hy', 'wy', 'wh']\n"
     ]
    }
   ],
   "source": [
    "print(delete('why'))"
   ]
  },
  {
   "cell_type": "markdown",
   "metadata": {},
   "source": [
    "Swap Operation"
   ]
  },
  {
   "cell_type": "code",
   "execution_count": 13,
   "metadata": {},
   "outputs": [],
   "source": [
    "def swap(word):\n",
    "    return[left + right[1]+right[0] +right[2:] for left,right in split(word) if len(right)>1]"
   ]
  },
  {
   "cell_type": "code",
   "execution_count": 14,
   "metadata": {},
   "outputs": [
    {
     "name": "stdout",
     "output_type": "stream",
     "text": [
      "['hwy', 'wyh']\n"
     ]
    }
   ],
   "source": [
    "print(swap('why'))"
   ]
  },
  {
   "cell_type": "markdown",
   "metadata": {},
   "source": [
    "4. Replace Operation"
   ]
  },
  {
   "cell_type": "code",
   "execution_count": 15,
   "metadata": {},
   "outputs": [],
   "source": [
    "def replace(word):#abcdef...z\n",
    "    return[left + center + right[1:] for left,right in split(word) if right for center in string.ascii_lowercase ]"
   ]
  },
  {
   "cell_type": "code",
   "execution_count": 16,
   "metadata": {},
   "outputs": [
    {
     "name": "stdout",
     "output_type": "stream",
     "text": [
      "['ahy', 'bhy', 'chy', 'dhy', 'ehy', 'fhy', 'ghy', 'hhy', 'ihy', 'jhy', 'khy', 'lhy', 'mhy', 'nhy', 'ohy', 'phy', 'qhy', 'rhy', 'shy', 'thy', 'uhy', 'vhy', 'why', 'xhy', 'yhy', 'zhy', 'way', 'wby', 'wcy', 'wdy', 'wey', 'wfy', 'wgy', 'why', 'wiy', 'wjy', 'wky', 'wly', 'wmy', 'wny', 'woy', 'wpy', 'wqy', 'wry', 'wsy', 'wty', 'wuy', 'wvy', 'wwy', 'wxy', 'wyy', 'wzy', 'wha', 'whb', 'whc', 'whd', 'whe', 'whf', 'whg', 'whh', 'whi', 'whj', 'whk', 'whl', 'whm', 'whn', 'who', 'whp', 'whq', 'whr', 'whs', 'wht', 'whu', 'whv', 'whw', 'whx', 'why', 'whz']\n"
     ]
    }
   ],
   "source": [
    "print(replace('why'))"
   ]
  },
  {
   "cell_type": "markdown",
   "metadata": {},
   "source": [
    "5.Insert Operation"
   ]
  },
  {
   "cell_type": "code",
   "execution_count": 17,
   "metadata": {},
   "outputs": [],
   "source": [
    "def insert(word):#abcdef...z\n",
    "    return[left + center + right[1:] for left,right in split(word) for center in string.ascii_lowercase ]"
   ]
  },
  {
   "cell_type": "code",
   "execution_count": 18,
   "metadata": {},
   "outputs": [
    {
     "name": "stdout",
     "output_type": "stream",
     "text": [
      "['ahy', 'bhy', 'chy', 'dhy', 'ehy', 'fhy', 'ghy', 'hhy', 'ihy', 'jhy', 'khy', 'lhy', 'mhy', 'nhy', 'ohy', 'phy', 'qhy', 'rhy', 'shy', 'thy', 'uhy', 'vhy', 'why', 'xhy', 'yhy', 'zhy', 'Way', 'Wby', 'Wcy', 'Wdy', 'Wey', 'Wfy', 'Wgy', 'Why', 'Wiy', 'Wjy', 'Wky', 'Wly', 'Wmy', 'Wny', 'Woy', 'Wpy', 'Wqy', 'Wry', 'Wsy', 'Wty', 'Wuy', 'Wvy', 'Wwy', 'Wxy', 'Wyy', 'Wzy', 'Wha', 'Whb', 'Whc', 'Whd', 'Whe', 'Whf', 'Whg', 'Whh', 'Whi', 'Whj', 'Whk', 'Whl', 'Whm', 'Whn', 'Who', 'Whp', 'Whq', 'Whr', 'Whs', 'Wht', 'Whu', 'Whv', 'Whw', 'Whx', 'Why', 'Whz']\n"
     ]
    }
   ],
   "source": [
    "print(replace('Why'))"
   ]
  },
  {
   "cell_type": "markdown",
   "metadata": {},
   "source": [
    "Find Minimum Distance"
   ]
  },
  {
   "cell_type": "code",
   "execution_count": 19,
   "metadata": {},
   "outputs": [],
   "source": [
    "def level_one_edits(word):\n",
    "    return set((delete(word) + swap(word) + replace(word) + insert(word)))"
   ]
  },
  {
   "cell_type": "code",
   "execution_count": 20,
   "metadata": {},
   "outputs": [
    {
     "name": "stdout",
     "output_type": "stream",
     "text": [
      "{'Whyo', 'Whyc', 'Whd', 'Whk', 'Wjy', 'Way', 'Wsy', 'bhy', 'Wht', 'Whyz', 'Why', 'fhy', 'Whc', 'Whq', 'Wqy', 'hhy', 'Wly', 'rhy', 'Whn', 'lhy', 'Wy', 'ehy', 'Whs', 'Wcy', 'phy', 'Whyx', 'dhy', 'Wzy', 'Whz', 'Whu', 'Whyb', 'thy', 'Whf', 'Wha', 'Whyr', 'Whyp', 'Wwy', 'Wmy', 'Wh', 'chy', 'Wpy', 'Whe', 'qhy', 'Whyd', 'why', 'ahy', 'Whyn', 'Who', 'Wfy', 'vhy', 'Whi', 'Wyy', 'Wxy', 'Whye', 'zhy', 'ohy', 'Whb', 'Whx', 'Whp', 'Whya', 'nhy', 'Whh', 'Whj', 'Whyw', 'Wiy', 'khy', 'Whm', 'Wey', 'Whv', 'Whyt', 'Whyv', 'shy', 'Whr', 'Whyj', 'Wky', 'hy', 'Whw', 'ihy', 'Wgy', 'Wvy', 'Wyh', 'Whl', 'Whym', 'hWy', 'Wny', 'Whyu', 'Whyg', 'Whyk', 'Wry', 'ghy', 'Woy', 'Whyf', 'Whyq', 'yhy', 'Whg', 'Whyi', 'Whys', 'Wby', 'Wdy', 'Wuy', 'Whyl', 'jhy', 'mhy', 'Whyh', 'Wty', 'Whyy', 'uhy', 'xhy'}\n"
     ]
    }
   ],
   "source": [
    "print(level_one_edits('Why'))"
   ]
  },
  {
   "cell_type": "markdown",
   "metadata": {},
   "source": [
    "Gets all cands that we want to find out"
   ]
  },
  {
   "cell_type": "code",
   "execution_count": 21,
   "metadata": {},
   "outputs": [],
   "source": [
    "def level_two_edits(word):\n",
    "    return set(e2 for e1 in level_one_edits(word) for e2 in level_one_edits(e1))"
   ]
  },
  {
   "cell_type": "code",
   "execution_count": 22,
   "metadata": {},
   "outputs": [
    {
     "name": "stdout",
     "output_type": "stream",
     "text": [
      "{'cyo', 'cltt', 'cutok', 'uuti', 'cuxi', 'cuna', 'cuqh', 'qutb', 'cujh', 'dutc', 'cuue', 'wua', 'cudo', 'cutwc', 'cmtd', 'cjtp', 'cuon', 'hwt', 'cutig', 'cutos', 'kutf', 'cxh', 'futn', 'fun', 'cktr', 'iutf', 'cai', 'cutut', 'cuuf', 'cudx', 'cxte', 'hutc', 'cuoa', 'cew', 'cuag', 'auf', 'cutpp', 'qft', 'cuxb', 'cutol', 'dur', 'oyt', 'mux', 'rrt', 'wu', 'ctul', 'huto', 'xpt', 'cwl', 'xuw', 'cuow', 'qud', 'csz', 'cix', 'cutf', 'kus', 'eutp', 'yus', 'cf', 'juv', 'butx', 'cq', 'tpt', 'cutww', 'gua', 'cutky', 'kuv', 'tt', 'cqy', 'iutt', 'cujt', 'cptl', 'cull', 'tat', 'cqu', 'chn', 'utm', 'futw', 'cupk', 'cuix', 'hutv', 'csw', 'wutm', 'eub', 'cutwv', 'cjtf', 'idt', 'cetr', 'uctk', 'uut', 'kqt', 'cly', 'cuqy', 'cuzm', 'cuvr', 'cgtx', 'cuia', 'cotn', 'wt', 'cutkm', 'cs', 'cuza', 'cuay', 'puy', 'cuxk', 'xuo', 'cuthf', 'cufi', 'uco', 'cuttj', 'cpa', 'czty', 'fute', 'cc', 'ctty', 'xuta', 'cutie', 'ug', 'cdq', 'qutu', 'cubn', 'muc', 'gutf', 'cktg', 'cuax', 'muy', 'uts', 'mbt', 'lun', 'cll', 'quc', 'uum', 'cutvq', 'cxty', 'ect', 'xup', 'cutpt', 'cutzh', 'eutr', 'zui', 'hst', 'cutow', 'xutu', 'cae', 'cutwj', 'cuxl', 'cutvi', 'putp', 'cntk', 'crtb', 'cutjq', 'rutk', 'cmta', 'xt', 'tutz', 'lct', 'bot', 'cuxz', 'yuw', 'kxt', 'wuth', 'tub', 'xutb', 'kuq', 'cstw', 'cutkt', 'cdx', 'ucf', 'cuzo', 'vmt', 'cutuk', 'autm', 'nutt', 'cukz', 'ruts', 'uuty', 'cdg', 'vut', 'clx', 'cujw', 'cuthp', 'cutzw', 'vute', 'zul', 'juth', 'cttw', 'yuti', 'jutr', 'cwtr', 'zmt', 'cftd', 'nue', 'cbte', 'cutdp', 'cmte', 'yud', 'cutng', 'yutw', 'catj', 'eutu', 'cgtn', 'cutfr', 'mutq', 'yun', 'cutrf', 'futa', 'zuy', 'cuttp', 'cqq', 'ux', 'cutiz', 'ch', 'cutyn', 'cor', 'culs', 'cbk', 'kuk', 'iuo', 'vuv', 'cdtt', 'tutd', 'cutpn', 'lutv', 'aur', 'putf', 'jet', 'catl', 'crtz', 'gug', 'rit', 'cuzn', 'yul', 'wup', 'cpd', 'crtp', 'cie', 'cuteg', 'cutml', 'cuep', 'cutzo', 'cvtc', 'cvts', 'cbn', 'cgth', 'hux', 'cukx', 'clh', 'cutxi', 'czp', 'cunm', 'catu', 'cutrn', 'uf', 'cuyy', 'fui', 'cutcg', 'cvf', 'cunj', 'crtt', 'cutoz', 'cyk', 'cktf', 'cdm', 'eutk', 'mrt', 'uc', 'utu', 'ctuw', 'zutc', 'luk', 'cpw', 'cxu', 'luta', 'cqtk', 'wgt', 'quv', 'cbh', 'vdt', 'dtu', 'st', 'cutay', 'dutd', 'cuym', 'czt', 'rutg', 'cusd', 'cutry', 'ruw', 'urt', 'cubk', 'guty', 'cuwb', 'cutkl', 'chtg', 'txt', 'cutzq', 'cugg', 'ccq', 'ctw', 'cuyd', 'jut', 'cgtd', 'cubq', 'lub', 'otu', 'huk', 'cvtf', 'knt', 'cbts', 'cxs', 'uutr', 'cah', 'yue', 'cmv', 'cutvr', 'cudw', 'cufz', 'cis', 'auc', 'vuc', 'cfh', 'tet', 'uua', 'cutwz', 'mnt', 'put', 'tst', 'cptq', 'suq', 'ucs', 'cuqg', 'cxtm', 'zuto', 'sub', 'pup', 'mug', 'cutsm', 'quto', 'iud', 'cztt', 'mub', 'cutlz', 'futd', 'csk', 'cptc', 'sat', 'cukr', 'auw', 'wuj', 'cutoy', 'qutm', 'citb', 'duti', 'cucn', 'buti', 'cuxu', 'vtu', 'czh', 'cutqu', 'zuk', 'cuck', 'cmk', 'mst', 'ccp', 'cbtx', 'zug', 'vuu', 'cusi', 'cutja', 'vuw', 'mtt', 'cutxf', 'cuy', 'cftf', 'putr', 'cum', 'cxtl', 'lutt', 'futg', 'euti', 'puu', 'ott', 'wft', 'futc', 'cad', 'cbtf', 'rutj', 'cytl', 'sur', 'tu', 'lutu', 'cftc', 'cok', 'cuno', 'cit', 'rus', 'cqtu', 'buv', 'mtu', 'kuu', 'vuz', 'cfa', 'ctub', 'cag', 'cutln', 'cuim', 'cuie', 'cxth', 'cutco', 'cwf', 'ctts', 'ku', 'cgc', 'cuju', 'yuf', 'fuq', 'ceti', 'ucr', 'cvg', 'cqtr', 'oud', 'butf', 'rur', 'cktu', 'jtt', 'cctm', 'czz', 'cuqw', 'cptf', 'cutyd', 'sul', 'fot', 'qun', 'eutq', 'cut', 'dgt', 'sutg', 'cutzi', 'nua', 'pun', 'chtm', 'muj', 'czi', 'gup', 'us', 'aht', 'citx', 'tux', 'cucb', 'cfn', 'cutfz', 'cuin', 'euf', 'cwtw', 'cueq', 'cuzl', 'cuttu', 'cntq', 'cfy', 'hxt', 'cmtk', 'qui', 'cutiy', 'dzt', 'iat', 'crtx', 'curw', 'buz', 'cukj', 'cufm', 'rwt', 'crtl', 'cei', 'sjt', 'nun', 'cztl', 'cttr', 'nuu', 'puw', 'ogt', 'amt', 'cuhi', 'cutsf', 'cuud', 'cutau', 'uch', 'cfo', 'cptp', 'un', 'wuo', 'cutw', 'hqt', 'nuc', 'lut', 'cuba', 'cutto', 'cutgd', 'cukf', 'ouv', 'xrt', 'cstp', 'cytb', 'ruh', 'eutt', 'wutr', 'qtu', 'cuvt', 'bft', 'uzt', 'cuuq', 'wutz', 'jun', 'cea', 'pua', 'futb', 'cuttk', 'vet', 'cunr', 'nutp', 'cutdn', 'llt', 'cuc', 'cugh', 'cwu', 'cust', 'citc', 'ist', 'cutnb', 'nux', 'ouw', 'zuth', 'xst', 'zht', 'cur', 'cug', 'cgtp', 'cuka', 'qet', 'cay', 'sug', 'cubb', 'gur', 'czw', 'duv', 'cdo', 'chtn', 'cuuy', 'mutw', 'futp', 'oit', 'cutpu', 'ucte', 'cutgm', 'cytq', 'cuoj', 'cutps', 'chr', 'crtw', 'cuaw', 'ctus', 'xud', 'cztz', 'citu', 'utg', 'ucb', 'cytr', 'vutu', 'xuy', 'culb', 'uuk', 'cutpm', 'cotw', 'cues', 'cuzs', 'cdtk', 'cutze', 'cem', 'cutrg', 'cutyt', 'luth', 'cmtj', 'cmtu', 'zpt', 'cutxp', 'cbs', 'tum', 'rutd', 'cucy', 'cxg', 'cyf', 'cytj', 'hup', 'chtj', 'vua', 'jug', 'putl', 'gkt', 'cutkz', 'cjtm', 'cuzq', 'cgb', 'cuv', 'cuac', 'cuje', 'xul', 'cxe', 'cntt', 'iutu', 'tuq', 'cuap', 'cpg', 'cvtm', 'cuiq', 'cutyk', 'cmo', 'futy', 'ccz', 'cutre', 'cqtp', 'cuqz', 'itu', 'ctuy', 'dqt', 'catn', 'bue', 'yuz', 'uctp', 'cltg', 'cttj', 'ouk', 'uutq', 'cuthm', 'ngt', 'xuq', 'cn', 'cup', 'cete', 'cukb', 'tkt', 'cgtl', 'oct', 'cjc', 'cjk', 'cxj', 'cls', 'lwt', 'utt', 'kat', 'cgp', 'utj', 'cdtd', 'csti', 'cutjz', 'crtv', 'cutws', 'hht', 'cyn', 'cns', 'cumo', 'cotz', 'dutm', 'cufr', 'jui', 'cm', 'cutug', 'sst', 'zus', 'cqte', 'fuc', 'cuux', 'cuup', 'cotb', 'hlt', 'yht', 'cuttr', 'cutpr', 'ckts', 'cbd', 'zutf', 'cusj', 'juty', 'uuz', 'buu', 'xtt', 'cutul', 'cwtc', 'quty', 'nft', 'cutcj', 'pt', 'wutn', 'tlt', 'cxtx', 'cwtl', 'outq', 'uutj', 'cftb', 'cgs', 'xft', 'tutr', 'ce', 'bct', 'cutuj', 'duth', 'hat', 'culr', 'zutr', 'cqn', 'tjt', 'cqtw', 'lutm', 'cuco', 'cupn', 'kutw', 'cvw', 'cry', 'uctx', 'num', 'guts', 'ccg', 'cutvz', 'cutdb', 'ceh', 'yuc', 'cutha', 'mutc', 'clo', 'xuh', 'cuox', 'cutdl', 'mutp', 'aft', 'tup', 'kut', 'cukg', 'lutx', 'pjt', 'cstx', 'cuaq', 'ces', 'cutcb', 'cutmx', 'cmn', 'cltx', 'putu', 'fyt', 'cula', 'pu', 'yu', 'cubc', 'vul', 'tutm', 'cvq', 'iup', 'luo', 'cucs', 'cupz', 'cusm', 'cntn', 'oht', 'cztr', 'cufc', 'cij', 'uht', 'cusx', 'xbt', 'cutif', 'ett', 'ctl', 'pub', 'cusw', 'wut', 'cmty', 'rutb', 'rutm', 'cetj', 'cuas', 'curf', 'aum', 'cumj', 'nxt', 'lui', 'cuut', 'wutx', 'autb', 'cutcf', 'autd', 'cuvq', 'itt', 'kutz', 'ucj', 'bute', 'cvth', 'mutf', 'cudz', 'let', 'cuko', 'ucp', 'cyty', 'cott', 'kub', 'aud', 'cjy', 'cuar', 'autn', 'tit', 'yux', 'tuk', 'cttz', 'cutvf', 'cvtb', 'eue', 'czs', 'ctut', 'hur', 'djt', 'cuttl', 'cuqu', 'clj', 'tutb', 'curh', 'brt', 'cutgf', 'fjt', 'cuca', 'ucu', 'vuts', 'outz', 'chtw', 'kpt', 'vutt', 'cuted', 'cqc', 'ucx', 'ucti', 'cotc', 'utr', 'cuaj', 'cutmh', 'futh', 'sutl', 'uuo', 'cutqv', 'uutc', 'ctup', 'cetm', 'cugc', 'ucn', 'cma', 'sud', 'iuk', 'wutf', 'chg', 'cuoq', 'mutb', 'nt', 'cutcs', 'cdd', 'cubf', 'cptg', 'cptw', 'cupd', 'putq', 'cutpz', 'cuol', 'mur', 'wus', 'futl', 'cftj', 'cwtn', 'outu', 'cru', 'ust', 'yct', 'cyu', 'cutpb', 'caw', 'cdta', 'cutex', 'aun', 'guk', 'cuxn', 'suh', 'nutv', 'cav', 'cutnt', 'cutvk', 'ceta', 'cz', 'oui', 'apt', 'cutgv', 'cuqx', 'cff', 'cnd', 'qqt', 'fuw', 'cxtq', 'cxta', 'cuttv', 'cutgj', 'wvt', 'byt', 'cjv', 'cyto', 'cutno', 'cutao', 'rst', 'wub', 'cjtz', 'cutjk', 'zud', 'qutj', 'cvtt', 'duta', 'oub', 'cuus', 'cfp', 'gbt', 'nmt', 'gft', 'tvt', 'chz', 'luz', 'jutb', 'iutb', 'cutr', 'chtt', 'kutj', 'ctn', 'caf', 'mgt', 'cso', 'fux', 'czm', 'ctq', 'cuqi', 'outy', 'wuc', 'cou', 'cctn', 'bwt', 'lus', 'cstc', 'cuph', 'suti', 'sutm', 'quo', 'cxtw', 'ue', 'nit', 'cwtd', 'jyt', 'cutaq', 'cen', 'uit', 'ctud', 'dup', 'cupp', 'kuty', 'oul', 'ul', 'cun', 'rup', 'cutvs', 'iot', 'oft', 'cutq', 'cbm', 'cuic', 'cutxa', 'rat', 'vjt', 'sft', 'cutua', 'uet', 'jutk', 'dwt', 'cutwe', 'cutmg', 'cutlg', 'culy', 'xit', 'jjt', 'cutlp', 'cgo', 'citl', 'ojt', 'cvtq', 'jute', 'jot', 'cdk', 'zet', 'chh', 'suto', 'pdt', 'cuzz', 'trt', 'cztu', 'ctuv', 'mjt', 'cyi', 'cbtn', 'hutm', 'cutby', 'cvn', 'cutgz', 'cgti', 'cutee', 'cudq', 'cuthw', 'cuil', 'ucd', 'cuhy', 'csa', 'ckr', 'cntw', 'cef', 'cutmy', 'butp', 'ckm', 'eur', 'cutqn', 'cutwu', 'iut', 'cutxu', 'rute', 'buk', 'cuzi', 'cuthk', 'cttc', 'cutsk', 'cxk', 'cktq', 'ctx', 'cuye', 'cbu', 'ptt', 'iuh', 'ruk', 'pus', 'cqtz', 'cpz', 'crn', 'chtq', 'cutoe', 'fur', 'cuttm', 'prt', 'cfx', 'cr', 'guo', 'autr', 'ruta', 'cee', 'gute', 'cutam', 'juz', 'ctth', 'cuuh', 'cwtk', 'citi', 'cel', 'juh', 'nct', 'kun', 'rdt', 'ouo', 'uci', 'cubs', 'et', 'uuy', 'cni', 'ute', 'cus', 'cjtn', 'dud', 'cjj', 'nst', 'cuob', 'cnty', 'cumr', 'crj', 'zlt', 'but', 'cutdz', 'clc', 'izt', 'sutb', 'nwt', 'buo', 'cptz', 'nqt', 'cutsl', 'chtl', 'cza', 'kuo', 'cutfs', 'ju', 'cyy', 'cuel', 'euz', 'cle', 'tutx', 'butz', 'cumv', 'cmf', 'cltf', 'mul', 'gutw', 'cukt', 'cutmd', 'sht', 'ru', 'csi', 'xjt', 'azt', 'crf', 'cgw', 'gqt', 'cztw', 'cite', 'cbq', 'vui', 'wtu', 'guti', 'cudh', 'cxp', 'cuqd', 'mzt', 'utf', 'xutn', 'cutoa', 'cja', 'cusq', 'ciy', 'ert', 'lrt', 'iutc', 'gux', 'cuhn', 'cutas', 'cuai', 'qnt', 'utv', 'iuw', 'quw', 'cutzj', 'hvt', 'cvtv', 'cec', 'cukc', 'cutem', 'njt', 'vgt', 'cbj', 'cuaa', 'rux', 'cuxw', 'cktj', 'cusr', 'cytn', 'cbx', 'kux', 'cuyf', 'cotu', 'cca', 'cutih', 'lvt', 'cqe', 'cbtl', 'crw', 'vpt', 'cmtq', 'butl', 'xutc', 'rot', 'hue', 'fuz', 'cpti', 'cuhz', 'cms', 'auu', 'cuhx', 'mue', 'clta', 'cbc', 'cuzh', 'cumz', 'caj', 'citz', 'cpv', 'kutv', 'cutjh', 'cutlf', 'odt', 'cuu', 'citv', 'eot', 'cutei', 'clq', 'cutuq', 'chte', 'cuso', 'iun', 'wst', 'crtc', 'cwth', 'uto', 'ivt', 'suth', 'cutkd', 'cktl', 'cuxo', 'cftu', 'ctux', 'ruf', 'cupg', 'cupw', 'cutqp', 'cltc', 'cutal', 'curu', 'cjtb', 'kutx', 'ckl', 'cpr', 'cys', 'cunx', 'cuzj', 'cuyk', 'tqt', 'csl', 'citq', 'qdt', 'cwty', 'quj', 'cvc', 'cutsv', 'cutmc', 'cuzw', 'cdtq', 'cutej', 'cutyo', 'cumh', 'cltj', 'chd', 'dht', 'ykt', 'cnte', 'slt', 'rutu', 'cbtt', 'eutg', 'dct', 'hutd', 'cutne', 'gul', 'sutu', 'guy', 'mutd', 'fuk', 'cpp', 'uctm', 'dxt', 'gst', 'yutz', 'cnta', 'cutmv', 'cftz', 'cctt', 'cttq', 'uutx', 'coa', 'ayt', 'futx', 'at', 'cuod', 'qzt', 'cutna', 'cugy', 'cttg', 'btt', 'fzt', 'cttt', 'cutxv', 'cga', 'cky', 'cutpy', 'cutbn', 'puh', 'fug', 'qul', 'cupl', 'yuta', 'cuej', 'outw', 'xua', 'jutj', 'nnt', 'mft', 'cmtc', 'cutqq', 'crg', 'hkt', 'cutfa', 'yut', 'uutp', 'cstd', 'zute', 'jxt', 'cap', 'csty', 'curr', 'curl', 'cqw', 'cutxk', 'utk', 'culz', 'cutav', 'cgr', 'vuj', 'duc', 'cci', 'cqtg', 'cwd', 'nuw', 'ppt', 'cudj', 'cutnz', 'cvz', 'vwt', 'auv', 'nuta', 'vtt', 'eut', 'gun', 'wuz', 'cutlh', 'cnj', 'kutq', 'cuvb', 'axt', 'cuvd', 'cpi', 'cujk', 'ucl', 'cutbk', 'cutuc', 'dtt', 'culd', 'tuo', 'cstk', 'cnf', 'avt', 'huti', 'cuea', 'cytp', 'eus', 'cutxm', 'tot', 'cuuc', 'nat', 'cuyz', 'zutg', 'bxt', 'cov', 'cuw', 'vuy', 'zue', 'chti', 'cjty', 'cct', 'zutb', 'dum', 'cztm', 'cutfu', 'cutbv', 'nutm', 'putw', 'cutkh', 'qug', 'cutgq', 'clg', 'cufv', 'outi', 't', 'cstq', 'cuxr', 'ucto', 'evt', 'crtr', 'lud', 'cutke', 'ccb', 'cftl', 'cuqj', 'cutnc', 'cutlt', 'hgt', 'sus', 'qus', 'ast', 'cutij', 'kbt', 'xutd', 'cfi', 'nuts', 'civ', 'cutpc', 'cutbm', 'aot', 'crq', 'cqo', 'city', 'uutk', 'zutu', 'cutbo', 'vutp', 'bpt', 'iuq', 'rtt', 'oue', 'ouh', 'cnu', 'qut', 'cutsw', 'mxt', 'gus', 'vuh', 'cuwu', 'cueg', 'fue', 'catc', 'cww', 'cktw', 'tutp', 'zur', 'cctk', 'yutx', 'cltr', 'vux', 'cutdk', 'jtu', 'cmtf', 'cusn', 'cumx', 'nutq', 'dutb', 'cctz', 'pot', 'cqti', 'cutvm', 'cx', 'euy', 'wrt', 'lutp', 'zst', 'cdl', 'clts', 'cuvu', 'cutku', 'vht', 'cubi', 'cptd', 'gutj', 'vuti', 'cpk', 'cutzm', 'cutpw', 'cuzk', 'nutx', 'catr', 'cuoy', 'cla', 'cac', 'csm', 'puk', 'tutv', 'ntu', 'uu', 'vat', 'culf', 'ltu', 'cuq', 'fum', 'cupy', 'iuv', 'cuthi', 'ck', 'cuyq', 'cuwi', 'cfd', 'vuto', 'cutuy', 'outo', 'cpy', 'cutoi', 'cuttc', 'ium', 'hutb', 'cutxq', 'huth', 'nup', 'cudg', 'cutbs', 'nht', 'cnt', 'fuh', 'quth', 'cvd', 'cti', 'zjt', 'luw', 'gyt', 'uat', 'ijt', 'ciw', 'kua', 'cura', 'fup', 'cudi', 'cuyl', 'cutom', 'cunq', 'cota', 'cutmf', 'zutv', 'cutak', 'chtf', 'ruu', 'kui', 'cdty', 'ait', 'kyt', 'cbi', 'tutn', 'cuul', 'lht', 'pug', 'cutqm', 'vutx', 'cwp', 'cutnr', 'cuthg', 'bvt', 'cutl', 'cyp', 'chf', 'catp', 'cujj', 'butn', 'coti', 'cmj', 'cho', 'cwtm', 'luti', 'ctr', 'qyt', 'cntx', 'pft', 'cufj', 'cucf', 'kud', 'xui', 'cytv', 'cuer', 'iutd', 'xvt', 'zzt', 'uk', 'cro', 'ccti', 'luu', 'autf', 'cutou', 'coto', 'cpta', 'euto', 'ejt', 'sutf', 'jht', 'cck', 'cql', 'cutaw', 'cetq', 'cutxw', 'cwtb', 'cuos', 'cetw', 'cvh', 'cwe', 'cvtw', 'tuj', 'wutl', 'cutx', 'iht', 'cjq', 'cutah', 'cml', 'curz', 'cqk', 'cce', 'cuug', 'auti', 'it', 'cki', 'guj', 'cuda', 'autw', 'cuft', 'fut', 'gjt', 'xutt', 'rutf', 'cutvn', 'cpe', 'mutv', 'cstm', 'net', 'cutyy', 'ouc', 'uw', 'cbtm', 'guf', 'cutvu', 'ekt', 'cztd', 'kul', 'cbta', 'cutgr', 'ccs', 'cqm', 'nuz', 'cuk', 'int', 'uctg', 'cutud', 'citn', 'wmt', 'gud', 'yuty', 'iutx', 'cuhj', 'cbo', 'cutqz', 'smt', 'cutro', 'cugu', 'sct', 'cdtb', 'clty', 'culm', 'cujo', 'ui', 'cjn', 'ukt', 'pct', 'zgt', 'dub', 'muo', 'ruty', 'futo', 'cwte', 'cot', 'cunu', 'cutyz', 'cnk', 'ckta', 'tut', 'cuqo', 'cutoc', 'guz', 'cfk', 'cuhs', 'cutzt', 'kuto', 'tgt', 'butr', 'citg', 'cqtb', 'cdtp', 'cujb', 'cpx', 'ctui', 'puf', 'cutks', 'xus', 'juj', 'pvt', 'cutkv', 'cuma', 'putk', 'nut', 'cutsi', 'cyx', 'cutun', 'vvt', 'mum', 'ptu', 'dmt', 'cpt', 'crti', 'cutdt', 'qxt', 'cutgl', 'uutu', 'cutek', 'cta', 'oet', 'cucz', 'cg', 'yft', 'cutnd', 'cujf', 'cutsa', 'cxtv', 'cudr', 'cuttw', 'cty', 'cetp', 'bnt', 'ouz', 'cupb', 'yuj', 'yet', 'cxv', 'cuhw', 'sux', 'ctu', 'cri', 'xuto', 'get', 'cuteq', 'kur', 'cxtk', 'kuc', 'vct', 'kutn', 'nutc', 'fat', 'cutcu', 'cpts', 'cutkj', 'lutc', 'cqi', 'cujy', 'fgt', 'clte', 'curs', 'cvt', 'wzt', 'cyta', 'catk', 'bux', 'fdt', 'gwt', 'uutl', 'cttn', 'u', 'gui', 'cutad', 'hutk', 'aue', 'yute', 'cutxt', 'cge', 'cyj', 'hutt', 'ent', 'rutp', 'ctt', 'yutt', 'pur', 'qum', 'yxt', 'yub', 'cbz', 'cmr', 'gzt', 'cutwd', 'czti', 'cutye', 'cutpi', 'luj', 'utx', 'aui', 'cuub', 'vyt', 'cjg', 'cltb', 'cufx', 'mutr', 'cutog', 'ryt', 'cdtz', 'ckz', 'bat', 'ckto', 'cutes', 'lot', 'ltt', 'muta', 'wutq', 'utq', 'cyr', 'qua', 'cip', 'rul', 'cyh', 'cule', 'cutyv', 'cfs', 'cuthb', 'cuki', 'jutp', 'cvl', 'cxx', 'hutu', 'ccth', 'ca', 'kuj', 'cdh', 'zkt', 'cuog', 'cutb', 'cutlw', 'cuwn', 'cntg', 'eit', 'cutch', 'ckf', 'iutw', 'tur', 'eht', 'cwv', 'cbtu', 'kft', 'cmg', 'cstb', 'yua', 'zutj', 'ckk', 'zuh', 'vutb', 'fft', 'que', 'cutlk', 'cmu', 'cugz', 'cbtr', 'puty', 'curx', 'uce', 'curb', 'cuct', 'cunc', 'cutaz', 'snt', 'hute', 'cl', 'ctum', 'cmx', 'cqtm', 'oat', 'cutbr', 'chty', 'quk', 'cutma', 'cbth', 'outk', 'cumq', 'cmi', 'hrt', 'luv', 'uctd', 'nur', 'jmt', 'hus', 'run', 'fit', 'jutg', 'qu', 'cuwd', 'cusy', 'eutn', 'cutup', 'cbg', 'cutiw', 'cito', 'jutu', 'cutyb', 'yst', 'cbt', 'cuof', 'qit', 'cwa', 'pgt', 'cath', 'cutmz', 'citd', 'outr', 'cutmb', 'pute', 'cva', 'fkt', 'cfts', 'cyts', 'cutyr', 'cuvx', 'cucq', 'chs', 'qutv', 'czc', 'kuts', 'bud', 'gutx', 'cytx', 'cuwo', 'iux', 'wtt', 'quz', 'rud', 'qbt', 'cutwm', 'iur', 'uuu', 'cusg', 'cati', 'cupf', 'cucj', 'nutf', 'muh', 'ceto', 'jua', 'xgt', 'pwt', 'sutt', 'cuuu', 'quti', 'cutjm', 'cutpa', 'buy', 'crtg', 'gutm', 'fxt', 'butg', 'cbtz', 'bug', 'suy', 'cgtg', 'xuk', 'cdc', 'cutnu', 'cih', 'ywt', 'kuta', 'nui', 'cutqw', 'xxt', 'dute', 'cuwg', 'che', 'cfte', 'tuc', 'ut', 'uute', 'cutcm', 'ctp', 'cukd', 'wbt', 'culx', 'cuttq', 'sutn', 'cutiq', 'xet', 'citj', 'lutd', 'czv', 'dkt', 'kzt', 'cuttt', 'outl', 'cutcx', 'xuj', 'clt', 'chb', 'cmtz', 'chk', 'auy', 'cuio', 'czo', 'dutu', 'cstr', 'chtc', 'uue', 'fct', 'cutop', 'cxf', 'qutz', 'cim', 'cubg', 'gutn', 'curc', 'cutft', 'cutap', 'yot', 'jwt', 'cutns', 'ipt', 'bul', 'mutg', 'luf', 'plt', 'cutwk', 'crtm', 'cktc', 'cufy', 'wpt', 'ccts', 'ggt', 'czx', 'nuti', 'ewt', 'cktm', 'iuf', 'xutj', 'su', 'cpto', 'catx', 'outd', 'ovt', 'ccw', 'cuthj', 'jit', 'qgt', 'cutor', 'ceq', 'cuji', 'cctd', 'duq', 'cjth', 'cutlu', 'cuvy', 'nuy', 'cutob', 'cuzg', 'cutju', 'zux', 'iuts', 'bun', 'ccn', 'citk', 'cfb', 'cpq', 'ymt', 'mmt', 'ftt', 'cjm', 'cltn', 'dutr', 'cubt', 'cutrd', 'cutnl', 'ccy', 'cutsp', 'cju', 'puti', 'cuoo', 'cqtt', 'sot', 'cutgs', 'vub', 'cutfp', 'luc', 'cutwx', 'cusv', 'clu', 'uuv', 'wlt', 'caty', 'cuhb', 'cjz', 'mwt', 'nuh', 'autq', 'czd', 'cutaa', 'putt', 'cutni', 'pat', 'cjtj', 'coe', 'csu', 'quta', 'cutqf', 'cyv', 'cutwb', 'cutme', 'cutjb', 'cuwl', 'autv', 'cntu', 'iutl', 'sua', 'cxtz', 'ujt', 'ccd', 'nuty', 'uot', 'uux', 'cutev', 'cuttd', 'gutu', 'uv', 'cutfn', 'dutk', 'butb', 'kutp', 'jft', 'sqt', 'iuto', 'cntm', 'cpm', 'cps', 'fus', 'iui', 'cuton', 'cutj', 'cgj', 'uud', 'rutv', 'cytf', 'cxtc', 'cubh', 'cutbq', 'hud', 'cgm', 'cotf', 'butv', 'cd', 'zum', 'cstn', 'putd', 'juti', 'gutd', 'cdtj', 'quq', 'cuuv', 'dus', 'cuyh', 'cgtf', 'cwz', 'csts', 'autj', 'cvx', 'zub', 'cng', 'jul', 'guv', 'czy', 'mvt', 'cutmu', 'cqtn', 'iub', 'cunt', 'cgt', 'cued', 'cer', 'wuty', 'muts', 'zct', 'cuhg', 'rum', 'cqt', 'cctc', 'cuxd', 'ctuc', 'juts', 'muf', 'euq', 'cutjp', 'cutle', 'yuu', 'citm', 'cetb', 'gct', 'zutp', 'luh', 'coc', 'hutx', 'cmtr', 'cuhc', 'ctti', 'wud', 'cdr', 'cujn', 'cka', 'tzt', 'csv', 'lutf', 'duh', 'cuqk', 'auj', 'cits', 'gtt', 'ctm', 'cmh', 'cutuf', 'cutiu', 'cfg', 'cuvz', 'rut', 'cfz', 'jutc', 'dutv', 'suty', 'butt', 'cnp', 'tutq', 'ctv', 'cvk', 'cutzv', 'cutfb', 'cjto', 'cuxt', 'cutrk', 'cutny', 'cmti', 'aub', 'zutq', 'cuig', 'uh', 'uca', 'coz', 'cutsb', 'nuo', 'cpo', 'mu', 'cute', 'autl', 'ciz', 'cctp', 'cdn', 'cusu', 'ilt', 'cutxh', 'cutdm', 'blt', 'cutqa', 'cutid', 'ckq', 'cutez', 'sue', 'cutwt', 'cutbu', 'cfq', 'suj', 'cuteo', 'sit', 'sui', 'wux', 'qtt', 'cujc', 'citr', 'cutur', 'ruto', 'cwtt', 'cuor', 'cws', 'puth', 'uct', 'cjtk', 'car', 'cett', 'cxtp', 'cukq', 'mht', 'cumw', 'qutw', 'cutta', 'jup', 'iyt', 'cutjy', 'utw', 'zuo', 'chtb', 'opt', 'cuyn', 'cutrl', 'cuiv', 'cutpe', 'cji', 'bdt', 'cutpq', 'cktn', 'cutab', 'cdto', 'yvt', 'edt', 'uvt', 'wuw', 'cdtc', 'tht', 'cutwl', 'cytg', 'muq', 'mun', 'huc', 'cutyc', 'cutrz', 'cutgb', 'cuqa', 'obt', 'kutt', 'cutnj', 'crc', 'cuth', 'cuhu', 'cwy', 'cjtd', 'uy', 'cutoq', 'fuo', 'csq', 'cotr', 'cutod', 'mua', 'cj', 'cntp', 'zat', 'cxtt', 'luty', 'bur', 'vnt', 'cnw', 'auty', 'qutf', 'curk', 'cptu', 'outj', 'kuth', 'cuwc', 'cfty', 'puc', 'dutq', 'xutx', 'czto', 'unt', 'culj', 'cutet', 'cutgp', 'cunh', 'cvtx', 'lutb', 'cuns', 'cjd', 'nutn', 'cuew', 'cutvx', 'cuthz', 'uutm', 'eutz', 'oot', 'cujv', 'not', 'puts', 'cgtv', 'tbt', 'nutk', 'hdt', 'bkt', 'cutkf', 'cuvm', 'cube', 'ezt', 'cjs', 'cutdf', 'cntd', 'cctx', 'cutub', 'cukm', 'cgtz', 'cqf', 'cutqe', 'xwt', 'rqt', 'cutfm', 'wuk', 'cptv', 'ylt', 'gutv', 'kst', 'vue', 'lutw', 'cttm', 'cutho', 'cuzr', 'lutr', 'futk', 'czta', 'cutru', 'frt', 'cutep', 'cgv', 'huts', 'suts', 'cuvn', 'ccv', 'cgf', 'cuvl', 'jnt', 'cutym', 'iutj', 'cumg', 'wuu', 'cutcr', 'wutb', 'puz', 'cutda', 'outv', 'wuh', 'cutrm', 'ydt', 'ygt', 'bui', 'cbtq', 'cuvh', 'nutu', 'ruv', 'hui', 'guth', 'nzt', 'clr', 'cugf', 'qht', 'cuex', 'yutq', 'cutsd', 'tuty', 'cjx', 'cvu', 'autc', 'xuty', 'hot', 'gtu', 'tuti', 'cudm', 'cby', 'ceth', 'vutj', 'cult', 'cutzl', 'eutc', 'cuvg', 'cugw', 'cqh', 'yutb', 'cuto', 'cung', 'cutfj', 'cune', 'imt', 'nub', 'cutdw', 'futm', 'wutj', 'cutsg', 'cutu', 'zuf', 'cutz', 'cutmp', 'cutof', 'vutd', 'mdt', 'cuoc', 'cutn', 'vuth', 'cctv', 'dutp', 'jqt', 'cutqj', 'set', 'huy', 'ctuf', 'cctw', 'csth', 'hutn', 'mkt', 'cwk', 'cuyx', 'vutl', 'cctl', 'cots', 'ccr', 'lt', 'cdtr', 'cutpj', 'cotp', 'stt', 'cuxf', 'cety', 'aute', 'emt', 'rkt', 'cuzb', 'cufa', 'xmt', 'gnt', 'vutw', 'wur', 'uctz', 'kutc', 'cury', 'rutt', 'stu', 'ndt', 'cutwf', 'vu', 'culu', 'iuth', 'cutzy', 'euc', 'cui', 'jutw', 'att', 'cupa', 'cqto', 'ckti', 'catt', 'cutki', 'cubm', 'ceg', 'ceo', 'vud', 'cutuo', 'zuq', 'cuec', 'cmy', 'dvt', 'pul', 'cyl', 'xue', 'kutd', 'cutgg', 'ztt', 'cqtl', 'zt', 'hut', 'ruo', 'xqt', 'cpl', 'culv', 'uutn', 'zyt', 'cutcl', 'juk', 'cytu', 'cutxe', 'coy', 'uft', 'crs', 'cutfq', 'cutrh', 'cuee', 'kue', 'yuh', 'utc', 'putb', 'cgq', 'cxd', 'cik', 'yutm', 'lux', 'cptj', 'fmt', 'xot', 'cbtk', 'cntr', 'futv', 'cyq', 'cstg', 'cuhl', 'cutc', 'cutdi', 'fuf', 'cjti', 'tutl', 'cuvc', 'dutt', 'cutcc', 'cumt', 'xuf', 'cutzp', 'cjtv', 'crtj', 'iutk', 'xzt', 'vur', 'butu', 'awt', 'cump', 'cudd', 'crtk', 'cuqe', 'olt', 'crv', 'jst', 'futs', 'cgtc', 'cutqr', 'coo', 'cftm', 'cltu', 'uyt', 'cxti', 'chx', 'pst', 'cutaf', 'cna', 'cku', 'cnh', 'cuwr', 'cugp', 'cp', 'cev', 'cugs', 'cutmw', 'cukw', 'du', 'cufb', 'cutba', 'eqt', 'uti', 'cutel', 'vutm', 'cutsn', 'cntl', 'cutyq', 'guta', 'cujp', 'cuab', 'uuto', 'cmts', 'ost', 'cith', 'cutpd', 'cutmq', 'cxi', 'cdf', 'cdb', 'cutmi', 'cutnm', 'cmtl', 'cutpo', 'cgx', 'cdv', 'cutvw', 'cuaz', 'ccte', 'cetl', 'huu', 'cutjt', 'ckn', 'eutb', 'huty', 'cuthx', 'uup', 'clf', 'mot', 'cuef', 'cal', 'cdp', 'xum', 'cgi', 'vuf', 'tc', 'cao', 'cutfk', 'cuch', 'crm', 'ztu', 'kvt', 'cfta', 'pit', 'ctta', 'lug', 'cvo', 'eute', 'mutn', 'pqt', 'cuxx', 'cote', 'yutl', 'huq', 'tcu', 'cbw', 'cuau', 'yuto', 'cutnh', 'cwtj', 'cutnp', 'jdt', 'ikt', 'kdt', 'cotd', 'cvtu', 'vun', 'cueo', 'cusz', 'cutea', 'cuce', 'cgta', 'bua', 'lbt', 'yutn', 'cuze', 'czth', 'cutnv', 'cutbi', 'cutzg', 'cpth', 'crto', 'cutvd', 'cutmr', 'cotm', 'ucm', 'uqt', 'curg', 'zxt', 'bzt', 'ckx', 'cctb', 'cubo', 'cqv', 'kutr', 'wutd', 'dutw', 'cujm', 'rutl', 'cutmk', 'cnc', 'cutsr', 'ctuu', 'qur', 'cmt', 'yutr', 'xutp', 'cgl', 'cuzy', 'cutxz', 'gvt', 'cuthy', 'cudy', 'mqt', 'cutlo', 'pzt', 'cptt', 'cbb', 'mutj', 'butw', 'vkt', 'zutt', 'ctue', 'fwt', 'pui', 'zbt', 'cuds', 'cufp', 'cvtk', 'cul', 'qup', 'crl', 'cotk', 'xuu', 'yup', 'cufu', 'cutgh', 'vutf', 'ckth', 'css', 'cbtc', 'wutk', 'cptm', 'iuta', 'cvtd', 'cugt', 'cutsx', 'c', 'wun', 'ctuo', 'nvt', 'duz', 'kutg', 'cutdq', 'uutd', 'cuoe', 'cgtw', 'cunv', 'cuwz', 'cucu', 'cvtz', 'cop', 'culc', 'rmt', 'clv', 'cugi', 'cutoo', 'puj', 'cvty', 'curp', 'coh', 'cual', 'cdz', 'cio', 'cutqc', 'xutl', 'cutka', 'cuny', 'wht', 'citt', 'cwo', 'iutq', 'wjt', 'sxt', 'cuuk', 'cptr', 'nu', 'cv', 'qvt', 'sut', 'cudc', 'cjb', 'cba', 'chth', 'cucd', 'cutjv', 'cudu', 'cutpg', 'ket', 'lue', 'cups', 'gxt', 'cutxs', 'cqtx', 'clm', 'kmt', 'xtu', 'cetk', 'cunw', 'qjt', 'euv', 'wuq', 'cutfe', 'wutw', 'nuq', 'cubr', 'cej', 'cttu', 'zuta', 'cutg', 'cutox', 'cugd', 'cuz', 'curm', 'czj', 'ucq', 'yuq', 'cjtg', 'qutg', 'vbt', 'lit', 'qst', 'zutk', 'cqz', 'cwt', 'cqd', 'ouu', 'cubj', 'cgtj', 'kuy', 'cjtt', 'tutt', 'cuib', 'eat', 'iwt', 'nuj', 'chtu', 'yutf', 'cugj', 'uwt', 'cpf', 'cutfd', 'tul', 'auo', 'cftk', 'cuti', 'ght', 'cutai', 'cmtw', 'cuter', 'butd', 'jbt', 'cgtq', 'gutk', 'ft', 'suf', 'cep', 'cukl', 'cgto', 'cuhp', 'auq', 'vutz', 'cumk', 'kit', 'sum', 'wutu', 'zutl', 'cucp', 'eup', 'euty', 'cztq', 'lutg', 'ckp', 'cntf', 'cutyj', 'cxn', 'cuqp', 'ctuk', 'cuif', 'cutyi', 'chtv', 'cax', 'cftt', 'cutwy', 'cutik', 'cuyu', 'jub', 'cyt', 'cudf', 'qutn', 'cutyp', 'xutv', 'mutk', 'cmtt', 'oute', 'pxt', 'muv', 'zuz', 'tutw', 'cutqt', 'cuxq', 'lum', 'cuqs', 'cic', 'lutz', 'ort', 'cve', 'cutqy', 'cuou', 'cktx', 'cwtq', 'cutbx', 'czts', 'cutqd', 'cutza', 'cuiu', 'sutw', 'cutvg', 'pet', 'cetv', 'cuf', 'cuxg', 'cutfy', 'cdts', 'cjtw', 'ljt', 'cze', 'wue', 'cuhr', 'cutty', 'fuu', 'ccu', 'cwq', 'qutp', 'cuthc', 'eutm', 'bu', 'fpt', 'gmt', 'cuhm', 'cumn', 'oup', 'cds', 'lul', 'cxb', 'ctuz', 'huh', 'crtf', 'cpb', 'cutio', 'uuth', 'cbty', 'cuha', 'lft', 'jutf', 'kuh', 'vot', 'mutl', 'catv', 'cuwm', 'futz', 'cuttg', 'cch', 'cutmo', 'cutbp', 'ctk', 'iet', 'ntt', 'nuto', 'juy', 'cctu', 'xkt', 'cutdr', 'xuth', 'dat', 'btu', 'cuthe', 'ceu', 'ccty', 'cotl', 'uutf', 'cxtj', 'cuxe', 'uctq', 'cwj', 'euh', 'tuu', 'cbtb', 'crh', 'ctua', 'fuy', 'cuat', 'cjtc', 'czg', 'cud', 'gu', 'cuvp', 'cez', 'ful', 'culg', 'qutd', 'cutms', 'cufo', 'muu', 'dt', 'cutbc', 'cnm', 'cetg', 'cnl', 'uctn', 'cqs', 'xuz', 'uctr', 'cumu', 'git', 'cex', 'cyc', 'cuqb', 'qutl', 'cltp', 'nuv', 'mus', 'cutkq', 'cstj', 'cutxl', 'eu', 'hutw', 'xut', 'cwts', 'crr', 'mct', 'wute', 'cuyj', 'cptx', 'auth', 'ckty', 'cqta', 'cutmm', 'cutim', 'vuo', 'fst', 'cutyl', 'cuke', 'cutib', 'vutq', 'ctuq', 'ub', 'cugr', 'nutj', 'sutc', 'fht', 'cutcz', 'cuttx', 'cek', 'cif', 'cqty', 'cmtn', 'cutzr', 'cpte', 'cuss', 'cugm', 'lup', 'putj', 'cbtj', 'chtk', 'cutpf', 'cuthh', 'cil', 'cuae', 'ucz', 'cudb', 'wct', 'tute', 'cuh', 'uta', 'suc', 'catb', 'gub', 'tuy', 'cfj', 'uutv', 'zft', 'cuem', 'clb', 'lute', 'chy', 'bt', 'muti', 'cvte', 'cltl', 'cude', 'tue', 'uutt', 'jct', 'jkt', 'zuts', 'putz', 'znt', 'zuu', 'cutkk', 'lst', 'cxtb', 'duj', 'duy', 'cetc', 'lat', 'xub', 'cwh', 'cyte', 'cutov', 'cbtw', 'cwn', 'cutvy', 'lqt', 'mlt', 'rvt', 'eft', 'cusa', 'cft', 'luy', 'cko', 'ftu', 'nute', 'bjt', 'pmt', 'cktd', 'nus', 'yuy', 'vt', 'svt', 'chj', 'euth', 'cutmj', 'chq', 'cutec', 'qutc', 'grt', 'qot', 'cuyi', 'cgu', 'cunk', 'cutpx', 'cam', 'cbtd', 'hft', 'vlt', 'cvr', 'cuttz', 'aet', 'mup', 'cwta', 'cutrr', 'cuyg', 'cums', 'cst', 'ift', 'cwtp', 'ruy', 'cgtr', 'cujg', 'cutag', 'cub', 'ucy', 'huj', 'nrt', 'qutx', 'cutef', 'cuwk', 'cvti', 'eud', 'jrt', 'nul', 'cutyh', 'cotq', 'cuov', 'ynt', 'cudt', 'mutu', 'cuij', 'cmto', 'ciu', 'eutw', 'cua', 'cuhe', 'cbv', 'cltw', 'curo', 'qlt', 'cptn', 'gpt', 'rutn', 'cutnq', 'cdtf', 'um', 'cutqi', 'nkt', 'cjh', 'cuid', 'cotg', 'yug', 'catd', 'cuek', 'gutr', 'cgty', 'zuty', 'cutgt', 'rua', 'cupj', 'eyt', 'cutge', 'cny', 'sun', 'cunl', 'cjp', 'qutt', 'uty', 'cjf', 'catz', 'outg', 'ldt', 'cufg', 'hum', 'est', 'cnr', 'kum', 'cuit', 'gutc', 'cxm', 'tft', 'cutuh', 'cjte', 'ci', 'cuwt', 'ckt', 'cuih', 'swt', 'csy', 'cb', 'tutu', 'cetz', 'iuj', 'cgd', 'juu', 'sutv', 'hzt', 'wuta', 'cutlq', 'upt', 'cutbt', 'cutyf', 'auh', 'cubu', 'butq', 'cuqm', 'cutjg', 'oum', 'crte', 'cntc', 'cutzk', 'cupe', 'eutj', 'cmq', 'cha', 'cuqt', 'cutuz', 'eux', 'tuw', 'cueh', 'act', 'jutd', 'cuff', 'cuis', 'co', 'butm', 'cts', 'cxz', 'cytm', 'cy', 'catw', 'ccc', 'cztp', 'uth', 'nutb', 'cutse', 'lua', 'cuev', 'cytd', 'cutcn', 'clto', 'cupt', 'cjo', 'cucr', 'cutfo', 'cytz', 'cutzb', 'cuzc', 'cutnf', 'buta', 'cmtg', 'cutts', 'iu', 'buc', 'aut', 'gum', 'cuhk', 'ius', 'xat', 'cucw', 'cjt', 'cutjc', 'cujl', 'cre', 'gutz', 'utb', 'butk', 'ot', 'cab', 'juc', 'jutz', 'cuot', 'cata', 'cuty', 'cuyp', 'cutpv', 'cvj', 'yyt', 'xutq', 'cutt', 'cunb', 'cwg', 'cutfi', 'cuww', 'lur', 'cubz', 'xutk', 'cjta', 'crx', 'ua', 'cstu', 'pux', 'out', 'cuths', 'ozt', 'cutkw', 'wot', 'cke', 'cats', 'zuj', 'uuf', 'ruz', 'cje', 'xyt', 'ruj', 'iutg', 'cutdc', 'ccto', 'uctl', 'cutbe', 'cbr', 'zutw', 'qpt', 'guh', 'ugt', 'cutp', 'cuoh', 'rgt', 'cutjw', 'cujz', 'cwti', 'cdtn', 'cutlb', 'ctd', 'cumc', 'cuvi', 'lmt', 'czn', 'ht', 'curv', 'quu', 'cutmt', 'cutpk', 'dutg', 'vutg', 'cyb', 'cxl', 'cste', 'cutvh', 'yat', 'ckte', 'cutqk', 'cutdo', 'lnt', 'vug', 'muw', 'cutbj', 'outn', 'vit', 'cutux', 'uj', 'cmtb', 'cutfh', 'aup', 'tun', 'cuwq', 'uq', 'iutv', 'cutrb', 'cuyw', 'gutg', 'guq', 'cytk', 'rct', 'ixt', 'tuz', 'cutgx', 'fuv', 'rxt', 'cutql', 'cw', 'cutld', 'bum', 'tutc', 'tutk', 'cnth', 'zutx', 'zdt', 'nyt', 'ucts', 'chtz', 'cjr', 'uuta', 'cunn', 'cde', 'cuyr', 'cuzv', 'ext', 'pbt', 'cttp', 'cjtq', 'cqr', 'cutus', 'cmtp', 'uus', 'cnti', 'putm', 'wum', 'cqth', 'cdt', 'quh', 'clw', 'kt', 'cuxc', 'rutq', 'cutqb', 'nuf', 'buq', 'cak', 'wwt', 'eul', 'yit', 'csr', 'kwt', 'rutx', 'hutj', 'cutkn', 'iute', 'cutsz', 'rpt', 'cutdj', 'cutck', 'wutp', 'crb', 'cuhq', 'hun', 'yuth', 'cutcy', 'cutkr', 'cqx', 'jt', 'cutll', 'cutds', 'cuxm', 'quf', 'aug', 'curn', 'yqt', 'cfti', 'outx', 'qct', 'cbl', 'cure', 'csx', 'huo', 'ct', 'cgtu', 'bus', 'cubd', 'xute', 'cztf', 'outp', 'zrt', 'cutjx', 'cvy', 'juta', 'nutl', 'cutra', 'jutv', 'gue', 'cutsj', 'cato', 'ccj', 'outc', 'wdt', 'cuen', 'cttv', 'tuta', 'cujq', 'cutth', 'wat', 'cutnw', 'cuvf', 'cutsq', 'csd', 'cks', 'uutb', 'iuu', 'chl', 'aus', 'muk', 'cuqr', 'uuw', 'muz', 'utp', 'cueb', 'uctu', 'cgte', 'uctj', 'iue', 'cox', 'auts', 'juo', 'tutg', 'cgn', 'cutzf', 'cuve', 'wuts', 'czb', 'iuc', 'dutz', 'cutxx', 'cttf', 'qute', 'wuti', 'uctw', 'jutq', 'cctq', 'curj', 'clk', 'vuk', 'cutwa', 'cuho', 'bup', 'iutm', 'nlt', 'cvv', 'cu', 'cufl', 'suu', 'cytw', 'cuad', 'cgy', 'cume', 'vutc', 'cyti', 'cuaf', 'tus', 'cyw', 'buw', 'yuo', 'cia', 'cuwe', 'atu', 'cuby', 'cutva', 'cutxg', 'cutgc', 'yzt', 'mit', 'crk', 'met', 'hua', 'cbf', 'cetx', 'cuwa', 'cdw', 'cuzt', 'duto', 'cutkp', 'cpn', 'cutaj', 'ttu', 'xutr', 'autz', 'cctf', 'culq', 'cugn', 'uutw', 'cukv', 'jur', 'cin', 'pud', 'culp', 'crtq', 'cuqn', 'uutg', 'rui', 'yjt', 'cjl', 'rft', 'duk', 'csta', 'cuua', 'ucc', 'jvt', 'qutq', 'autt', 'cubx', 'qutk', 'cutii', 'duf', 'cztb', 'cqtd', 'lutk', 'zit', 'crt', 'cutmn', 'zuti', 'cctr', 'xuc', 'cunz', 'qt', 'muto', 'myt', 'euts', 'wnt', 'cnb', 'cutqg', 'auk', 'luq', 'oug', 'fub', 'futj', 'cte', 'culk', 'cwi', 'wutg', 'jum', 'ddt', 'chm', 'cutyw', 'sbt', 'cujs', 'cutbw', 'guto', 'xlt', 'yutp', 'cutil', 'jud', 'cuxj', 'cdtu', 'clp', 'ccx', 'aux', 'cgk', 'kjt', 'cuteu', 'cukh', 'cukp', 'tua', 'cuei', 'vutk', 'zup', 'cdtx', 'uui', 'zqt', 'caa', 'cbp', 'outb', 'chtx', 'cuci', 'euu', 'cxtn', 'zua', 'cutxr', 'cuop', 'cufs', 'cutbf', 'xun', 'eun', 'cutd', 'putn', 'lutn', 'xutf', 'ctun', 'our', 'cuge', 'ucg', 'dot', 'chtp', 'futf', 'hutq', 'eutx', 'cutve', 'qkt', 'cufq', 'drt', 'cuthr', 'cgtk', 'cuwy', 'cuya', 'cuva', 'cuws', 'kuf', 'ced', 'tnt', 'cod', 'clth', 'luts', 'cutgk', 'cufn', 'culw', 'cltd', 'wyt', 'cotx', 'cfe', 'art', 'crta', 'cuql', 'cufw', 'cdi', 'cpty', 'cate', 'eum', 'cutca', 'sgt', 'cutcp', 'cutk', 'iuty', 'cuttb', 'cutuv', 'wutv', 'euj', 'htu', 'cutga', 'futi', 'vup', 'cutls', 'cjtx', 'cno', 'cuvw', 'uxt', 'sup', 'cmtm', 'cxtf', 'xug', 'cmtv', 'ckw', 'cas', 'cwb', 'cutlr', 'cuja', 'cuni', 'iuy', 'cutfv', 'duts', 'dut', 'hutz', 'cdte', 'buth', 'cutwn', 'vrt', 'dpt', 'elt', 'au', 'egt', 'cfth', 'kutk', 'cugo', 'cuiw', 'utd', 'wutc', 'cutje', 'bht', 'cwtv', 'cne', 'mutz', 'cztc', 'zun', 'cuuj', 'cftr', 'nutd', 'cktt', 'citp', 'ctg', 'fu', 'cbtg', 'hu', 'cpu', 'cutqs', 'xutw', 'citw', 'bst', 'up', 'cmtx', 'cutnk', 'caz', 'dutj', 'hyt', 'cusb', 'suta', 'ckb', 'guc', 'ruti', 'wkt', 'cttk', 'euk', 'ctur', 'cuun', 'pkt', 'cstf', 'cutzu', 'cutvc', 'cueu', 'cutrs', 'cwtz', 'lgt', 'ajt', 'mute', 'pyt', 'skt', 'cdtw', 'cfc', 'oua', 'cog', 'crp', 'hnt', 'dua', 'cbtv', 'cutm', 'hul', 'zot', 'cbe', 'cuyc', 'cita', 'cztj', 'cuzf', 'cqtj', 'huta', 'cund', 'vxt', 'clti', 'xdt', 'spt', 'yt', 'cptb', 'cutvb', 'cph', 'cos', 'gt', 'cujr', 'cutsu', 'cuxp', 'lpt', 'cuez', 'con', 'cco', 'cwtf', 'cuo', 'alt', 'puta', 'czl', 'suz', 'cutgo', 'cuah', 'cuav', 'cvtj', 'cntj', 'nbt', 'cutko', 'suo', 'cuqc', 'cwx', 'cbtp', 'eutd', 'rug', 'kuti', 'dbt', 'cugl', 'culi', 'cztn', 'ttt', 'uul', 'iug', 'sutk', 'cto', 'czq', 'juw', 'cstt', 'cutjj', 'vuty', 'cwto', 'cucg', 'muth', 'ouf', 'curi', 'catg', 'cutyx', 'cutis', 'ctug', 'cqtv', 'cuyv', 'crz', 'nug', 'csn', 'cuan', 'cltm', 'cufh', 'cnx', 'cvtg', 'cob', 'cse', 'yutk', 'cujd', 'cutla', 'cutew', 'cutcq', 'cuwj', 'cgg', 'cdtv', 'cqtc', 'xutm', 'cudn', 'cutdy', 'cuthu', 'ur', 'rjt', 'yuts', 'yutv', 'cutkg', 'pue', 'cuten', 'cukk', 'cutbg', 'cutxj', 'cush', 'cupu', 'tud', 'czf', 'twt', 'cutat', 'ucty', 'cuthd', 'cugk', 'ous', 'cqb', 'cuuw', 'cth', 'aul', 'hutl', 'cumi', 'yrt', 'cxt', 'cutwo', 'tuto', 'rtu', 'vuq', 'cutwg', 'csp', 'cuoi', 'ruth', 'agt', 'uuts', 'guw', 'xutg', 'cltv', 'bgt', 'cuyt', 'uck', 'cuxs', 'ctz', 'xu', 'autu', 'xutz', 'hit', 'dst', 'cuttf', 'nutw', 'rutw', 'uug', 'cktp', 'cutcv', 'cvta', 'cmp', 'cmm', 'jgt', 'bmt', 'jutt', 'cuuo', 'cunp', 'cutzc', 'uub', 'sutz', 'cutvv', 'kuw', 'cuam', 'sutr', 'fvt', 'eutl', 'cztk', 'cztx', 'puto', 'cftx', 'umt', 'cue', 'eui', 'hpt', 'cttd', 'vus', 'krt', 'buf', 'cuhh', 'bbt', 'uctb', 'cufk', 'srt', 'pnt', 'nuk', 'cftv', 'cutbh', 'cuur', 'cutvl', 'cmc', 'yutg', 'cuii', 'cdth', 'cutst', 'mutt', 'wxt', 'czk', 'kutl', 'coj', 'cxr', 'cuvk', 'uuj', 'cudp', 'cutcd', 'cutoj', 'cupi', 'duo', 'wqt', 'rlt', 'luto', 'ucth', 'jat', 'abt', 'czu', 'cda', 'dnt', 'cdu', 'cuwf', 'cutrx', 'hutr', 'cuey', 'outm', 'sutj', 'cutdu', 'cxtd', 'cutqx', 'cutdx', 'putv', 'fuj', 'vutv', 'cdti', 'cutix', 'cmz', 'wuy', 'cutia', 'csto', 'cutac', 'juto', 'curq', 'cof', 'cutdv', 'cutoh', 'cfl', 'gutt', 'cyz', 'cvm', 'cpj', 'putc', 'euw', 'cutyu', 'cutdh', 'crth', 'uz', 'cutxy', 'zutn', 'cutdd', 'cutzn', 'ccf', 'chw', 'autk', 'ant', 'fud', 'cnn', 'cutvt', 'cubp', 'cii', 'cutgu', 'ruq', 'ybt', 'cym', 'cftn', 'ckc', 'dutl', 'igt', 'cnts', 'cuum', 'cjtl', 'cutri', 'cutum', 'cvto', 'cme', 'yum', 'jutm', 'cumy', 'flt', 'eua', 'buts', 'cutxc', 'iuti', 'chv', 'crtn', 'cuui', 'cutbz', 'kup', 'rbt', 'cuiz', 'jlt', 'chtr', 'cumb', 'cra', 'cutqh', 'ctf', 'curd', 'cuok', 'puq', 'cltq', 'nutz', 'cetd', 'cutkx', 'qmt', 'cutrv', 'crtu', 'uctc', 'jzt', 'caq', 'jutn', 'xur', 'ytu', 'sdt', 'cutae', 'iit', 'cutwp', 'cutzx', 'rub', 'cuthq', 'gdt', 'cutjn', 'cht', 'cwtx', 'ret', 'sutp', 'cutpl', 'gutq', 'xnt', 'uur', 'ouq', 'ccl', 'rht', 'cucl', 'owt', 'wit', 'nutr', 'ouy', 'cye', 'ibt', 'cutde', 'cupq', 'cqg', 'ctb', 'ont', 'wet', 'cvtn', 'wutt', 'cotv', 'cutjr', 'cnz', 'coty', 'lutq', 'qux', 'cutzs', 'cunf', 'hct', 'crd', 'cutlm', 'dul', 'hmt', 'cutti', 'kute', 'cftw', 'zuv', 'vft', 'cubw', 'cuip', 'ckg', 'iul', 'cupc', 'iutr', 'cujx', 'buto', 'jutl', 'cvi', 'aua', 'cntv', 'yui', 'mut', 'udt', 'cugb', 'cgtb', 'futq', 'kutu', 'vuta', 'cfw', 'cgtt', 'outh', 'cumm', 'coi', 'ict', 'mutx', 'zutm', 'cutjf', 'cvtr', 'cuiy', 'zut', 'cmd', 'uctf', 'cutvo', 'kuz', 'cutkc', 'dft', 'ckv', 'cuak', 'cumd', 'cptk', 'ctuh', 'dlt', 'buty', 'culn', 'crts', 'tuth', 'cutey', 'huw', 'csf', 'cutbd', 'wuf', 'cuvs', 'cdj', 'eug', 'cuzx', 'det', 'cutsc', 'cli', 'cxw', 'cutss', 'coq', 'cdtl', 'cttx', 'cutir', 'cvtl', 'outf', 'cutzz', 'tuh', 'due', 'cntb', 'kot', 'uuh', 'cjtu', 'guu', 'zutd', 'cutya', 'cuthl', 'cutwq', 'pum', 'fet', 'iqt', 'chts', 'cyd', 'cvtp', 'kct', 'cutji', 'ucta', 'cnq', 'suk', 'ctj', 'outa', 'akt', 'nud', 'cutdg', 'culh', 'gutb', 'jue', 'utl', 'putg', 'cttl', 'cuml', 'hutg', 'cutin', 'cutrq', 'cutuw', 'yuk', 'cuzd', 'cutbl', 'dutf', 'cetu', 'hutf', 'catq', 'cuta', 'cld', 'ktt', 'cutnx', 'mutm', 'nutg', 'cig', 'jpt', 'cftq', 'cytc', 'cugv', 'tui', 'zuw', 'ckj', 'szt', 'cdtg', 'euo', 'cqtf', 'crtd', 'cucc', 'cfm', 'cuhf', 'cktb', 'cmw', 'vutr', 'putx', 'kug', 'cuxh', 'cuzp', 'cutqo', 'cuthv', 'cutcw', 'cxq', 'cutfc', 'cupm', 'cutci', 'catf', 'cubv', 'cxtu', 'futu', 'cftp', 'hub', 'cuxa', 'ckh', 'cgts', 'cstz', 'kht', 'cuqf', 'rutc', 'chto', 'autp', 'juq', 'ccm', 'qutr', 'het', 'cqtq', 'cey', 'ept', 'cutar', 'czte', 'ceb', 'cutgw', 'buj', 'outt', 'ou', 'cufd', 'cuky', 'csj', 'quts', 'cxo', 'cutfw', 'xuti', 'lyt', 'crty', 'cetf', 'col', 'mud', 'hbt', 'iua', 'jus', 'tuv', 'cltk', 'cutot', 'cupv', 'oun', 'cmb', 'cftg', 'cvs', 'cvp', 'cusf', 'cwm', 'cnv', 'tct', 'ucw', 'cuqq', 'cutff', 'wuv', 'cutzd', 'bqt', 'duw', 'ktu', 'butj', 'cvb', 'dug', 'zuc', 'gat', 'cutxo', 'cwr', 'cbti', 'rutz', 'cusk', 'cutnn', 'cctg', 'pht', 'cuuz', 'cutte', 'cdy', 'oqt', 'cutax', 'ruc', 'duty', 'mui', 'jutx', 'chta', 'yutu', 'dit', 'dyt', 'ud', 'cupx', 'iutz', 'tutj', 'cutli', 'cjtr', 'xct', 'kkt', 'cjw', 'iutn', 'cets', 'tyt', 'rnt', 'wul', 'cutsh', 'vqt', 'cktz', 'cwtu', 'cutrw', 'fua', 'cstl', 'cdtm', 'cutit', 'mt', 'etu', 'dutx', 'cuvv', 'qat', 'cuyo', 'cutrc', 'cytt', 'gutp', 'cuteb', 'sutd', 'csc', 'cxy', 'utn', 'xuts', 'cfv', 'can', 'cpc', 'cutgi', 'tmt', 'cqts', 'cucv', 'cutys', 'cuzu', 'cutfg', 'vzt', 'coth', 'kutb', 'mat', 'cuhv', 'cuku', 'cuxy', 'chi', 'kgt', 'muty', 'quy', 'ucv', 'cutly', 'syt', 'cuwh', 'cutso', 'cgz', 'autg', 'cfr', 'ctto', 'buh', 'iuz', 'cutlx', 'hjt', 'tdt', 'cutan', 'duu', 'rzt', 'cutvp', 'lkt', 'cutwh', 'oux', 'cutxd', 'aqt', 'cqa', 'htt', 'hug', 'okt', 'bub', 'iutp', 'cuik', 'cktk', 'csg', 'gut', 'qub', 'cupr', 'cutv', 'cwtg', 'cutyg', 'cib', 'cuvo', 'cktv', 'ult', 'cusp', 'zutz', 'butc', 'cetn', 'cuwx', 'cttb', 'xuv', 'outs', 'irt', 'cuir', 'cfto', 'cxa', 'sutq', 'cuht', 'cukn', 'glt', 'cuys', 'cau', 'ubt', 'com', 'citf', 'autx', 'uuc', 'omt', 'auto', 'cutlj', 'cusc', 'cet', 'zwt', 'suv', 'qrt', 'cqj', 'cuj', 'yutd', 'lxt', 'cow', 'cxtr', 'cutui', 'cufe', 'utz', 'ctc', 'clz', 'cutwr', 'csh', 'cotj', 'xht', 'wuto', 'xux', 'cuwp', 'cwc', 'zu', 'yutj', 'cuthn', 'cuks', 'juf', 'cudk', 'ytt', 'ckd', 'cutuu', 'puo', 'fqt', 'vutn', 'cstv', 'wug', 'cutue', 'cutgn', 'auz', 'cctj', 'cutip', 'cutjl', 'cutrp', 'zvt', 'cutrt', 'ebt', 'eet', 'vst', 'cztv', 'bit', 'cmth', 'eutv', 'cuhd', 'cuse', 'cuvj', 'nuth', 'cutwi', 'cux', 'fbt', 'yuv', 'cir', 'cutjs', 'futt', 'lzt', 'cutxb', 'rue', 'cutjo', 'cutxn', 'cltz', 'cntz', 'cutvj', 'tuts', 'cutbb', 'cuyb', 'oxt', 'sute', 'vum', 'cutrj', 'cutsy', 'cutjd', 'cuwv', 'cuga', 'cuoz', 'lu', 'adt', 'cgtm', 'cfu', 'cutce', 'chtd', 'cudv', 'jux', 'hutp', 'cutct', 'ccta', 'qwt', 'cuxv', 'curt', 'bet', 'uo', 'cln', 'kutm', 'huv', 'czr', 'ctuj', 'futr', 'cuet', 'chc', 'cyg', 'dun', 'ciq', 'wui', 'cutfl', 'cutlv', 'uutz', 'cbto', 'got', 'gutl', 'cgh', 'cxto', 'fnt', 'cutht', 'lutj', 'ypt', 'culo', 'tutf', 'cyth', 'cuom', 'cqp', 'puv', 'cudl', 'uun', 'ouj', 'yutc', 'cuqv', 'euta', 'aat', 'cugx', 'uuq', 'cutkb', 'uctt', 'cucm', 'cuteh', 'cucx', 'ctte', 'cjts', 'npt', 'huf', 'cutiv', 'cya', 'dux', 'tuf', 'cugq', 'cat', 'auta', 'cuao', 'cutlc', 'mpt', 'tug', 'dui', 'csb', 'catm', 'cupo', 'cid', 'cnto', 'cusl', 'huz', 'cuts', 'cztg', 'lutl', 'rt', 'cutph', 'yur', 'klt', 'sutx', 'suw', 'rutr', 'cumf', 'chp', 'cubl', 'cxc', 'cuttn', 'cutgy', 'dutn', 'eutf', 'cutic', 'uctv', 'cutfx', 'chu', 'cxtg', 'cxts'}\n"
     ]
    }
   ],
   "source": [
    "print(level_two_edits('cut'))"
   ]
  },
  {
   "cell_type": "markdown",
   "metadata": {},
   "source": [
    "Autocorrect Search bar"
   ]
  },
  {
   "cell_type": "code",
   "execution_count": 23,
   "metadata": {},
   "outputs": [],
   "source": [
    "def correct_spelling(word,vocab,word_probabs):\n",
    "    if word in vocab:\n",
    "        print(f\"{word} is already correctly spelled\")\n",
    "        return \n",
    "    #getting all suggesions\n",
    "    suggestions = level_one_edits(word) or level_two_edits(word) or [word]\n",
    "    best_guesses = [w for w in suggestions if w in vocab]\n",
    "    return [(w, word_probabs[w]) for w in best_guesses]"
   ]
  },
  {
   "cell_type": "code",
   "execution_count": 24,
   "metadata": {},
   "outputs": [
    {
     "name": "stdout",
     "output_type": "stream",
     "text": [
      "[('lead', 8.083965454520958e-05), ('lard', 1.347327575753493e-05), ('laid', 9.880402222192281e-05), ('land', 0.00035928735353426476), ('led', 4.4910919191783095e-05), ('lad', 0.00010778620606027944)]\n"
     ]
    }
   ],
   "source": [
    "search_word = \"laed\"\n",
    "guess = correct_spelling(search_word,vocab,word_probabs)\n",
    "print(guess)"
   ]
  },
  {
   "cell_type": "code",
   "execution_count": null,
   "metadata": {},
   "outputs": [],
   "source": []
  }
 ],
 "metadata": {
  "kernelspec": {
   "display_name": "Python 3",
   "language": "python",
   "name": "python3"
  },
  "language_info": {
   "codemirror_mode": {
    "name": "ipython",
    "version": 3
   },
   "file_extension": ".py",
   "mimetype": "text/x-python",
   "name": "python",
   "nbconvert_exporter": "python",
   "pygments_lexer": "ipython3",
   "version": "3.11.9"
  }
 },
 "nbformat": 4,
 "nbformat_minor": 2
}
